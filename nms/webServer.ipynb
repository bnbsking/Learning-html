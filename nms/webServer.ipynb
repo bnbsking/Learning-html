{
 "cells": [
  {
   "cell_type": "code",
   "execution_count": 1,
   "metadata": {},
   "outputs": [],
   "source": [
    "import pymysql, os\n",
    "import pandas as pd\n",
    "from flask import Flask, request, render_template, redirect, url_for\n",
    "\n",
    "# 00:read_only, 01:create_nano_user_only; 10:create_web_user_only; 11:gold\n",
    "key_list = [os.urandom(20).hex() for i in range(4)]\n",
    "\n",
    "connect = pymysql.connect(host='127.0.0.1', port=3306, \\\n",
    "    user='root', passwd='1234', db='user', charset='utf8')\n",
    "cursor = connect.cursor()\n",
    "\n",
    "app = Flask(__name__)"
   ]
  },
  {
   "cell_type": "code",
   "execution_count": 2,
   "metadata": {},
   "outputs": [
    {
     "name": "stdout",
     "output_type": "stream",
     "text": [
      " * Serving Flask app \"__main__\" (lazy loading)\n",
      " * Environment: production\n",
      "   WARNING: This is a development server. Do not use it in a production deployment.\n",
      "   Use a production WSGI server instead.\n",
      " * Debug mode: off\n"
     ]
    },
    {
     "name": "stderr",
     "output_type": "stream",
     "text": [
      " * Running on http://127.0.0.1:5000/ (Press CTRL+C to quit)\n"
     ]
    }
   ],
   "source": [
    "@app.route('/')\n",
    "def root():\n",
    "    return render_template('root.html', state='init')\n",
    "\n",
    "@app.route('/login', methods=['POST'])\n",
    "def login():\n",
    "    cursor.execute(\"select* from web where username='{}' and password=MD5('{}');\".format(\\\n",
    "            request.values['username'], request.values['password']))\n",
    "    L = cursor.fetchall()\n",
    "    if len(L):\n",
    "        return redirect(url_for('menu', key=key_list[ L[0][2]*2+L[0][3] ]))\n",
    "    return render_template('root.html', state='error')\n",
    "\n",
    "@app.route('/menu_<key>')\n",
    "def menu(key):\n",
    "    return render_template('menu.html', key=key)\n",
    "\n",
    "@app.route('/menu_<key>/create_web_user')\n",
    "def create_web_user(key):\n",
    "    if key == key_list[3]:\n",
    "        return render_template('create_web_user.html', key=key, dis='F')\n",
    "    if key == key_list[2]:\n",
    "        return render_template('create_web_user.html', key=key, dis='T')\n",
    "    return \"Permission denied !!!\"\n",
    "\n",
    "@app.route('/menu_<key>/create_web_user/processing', methods=['POST'])\n",
    "def create_web_user_process(key):\n",
    "    username, password = request.values['username'], request.values['password']\n",
    "    webuser, nanouser = 'webuser' in request.values, 'nanouser' in request.values\n",
    "    try:\n",
    "        cursor.execute(\"insert into web(username, password, webuser, nanouser) values(\\\n",
    "            '{}', MD5('{}'), {}, {});\".format(username, password, webuser, nanouser))\n",
    "        connect.commit()\n",
    "        print(\"create web user success\")\n",
    "    except:\n",
    "        print(\"create web user error! username already exist!\")\n",
    "        return \"create web user error! username already exist!\"\n",
    "    return redirect(url_for('create_success', key=key, target='web'))\n",
    "\n",
    "@app.route('/menu_<key>/create_<target>_user/success')\n",
    "def create_success(key, target):\n",
    "    return render_template('create_success.html', key=key, arg=target)\n",
    "\n",
    "@app.route('/menu_<key>/create_nano_user')\n",
    "def create_nano_user(key):\n",
    "    if key == key_list[3] or key == key_list[1]:\n",
    "        return render_template('create_nano_user.html', key=key)\n",
    "    return \"Permission denied !!!\"\n",
    "\n",
    "@app.route('/menu_<key>/create_nano_user/processing', methods=['POST'])\n",
    "def create_nano_user_process(key):\n",
    "    ID, group_no, account, password, IP = request.values['ID'], request.values['group_no'], \\\n",
    "        request.values['account'], request.values['password'], request.values['IP']\n",
    "    gdb = \"group{}\".format(group_no)\n",
    "    print(ID, group_no, account, password, gdb, IP)\n",
    "    cursor.execute(\"show databases;\")\n",
    "    L = [ db[0] for db in cursor.fetchall() ]\n",
    "    if gdb not in L:\n",
    "        cursor.execute(\"create database {};\".format(gdb))\n",
    "    try:\n",
    "        cursor.execute(\"insert into user.nano(ID, group_no, account, password, IP) values(\\\n",
    "            '{}', '{}', '{}', MD5('{}'), '{}');\".format(ID, group_no, account, password, IP))\n",
    "        cursor.execute(\"use {};\".format(gdb))\n",
    "        cursor.execute(\"create table a{}(data float, prediction float, CPU float, memory float, \\\n",
    "            time timestamp, notes char(20))\".format(ID))\n",
    "        connect.commit()\n",
    "        print(\"create nano user success\")\n",
    "    except:\n",
    "        print(\"create nano user error! ID already exist!\")\n",
    "        return \"create nano user error! ID already exist!\"\n",
    "    return redirect(url_for('create_success', key=key, target='nano'))\n",
    "\n",
    "@app.route('/menu_<key>/monitor')\n",
    "def monitor(key):\n",
    "    df = pd.read_sql(\"select ID,group_no,IP from user.nano;\", connect)\n",
    "    df['state'] = [ not os.system(\"ping -w 1000 {} -n 1\".format(df['IP'][i])) \\\n",
    "        for i in range(len(df)) ]\n",
    "\n",
    "    connections = {}\n",
    "    for i in range(len(df)):\n",
    "        connections[ df['ID'][i] ] = df['state'][i]\n",
    "\n",
    "    df = df.groupby(['group_no'])['ID'].apply(list).reset_index(name='IDs')\n",
    "    G = {}\n",
    "    for i in range(len(df)):\n",
    "        G[ df['group_no'][i] ] = df['IDs'][i]\n",
    "    return render_template('monitor.html', key=key, connections=connections, G=G)\n",
    "\n",
    "@app.route('/menu_<key>/monitor/<group_no>/<ID>')\n",
    "def monitor_nano(key, group_no, ID):\n",
    "    return render_template('monitor_nano.html', key=key, group_no=group_no, ID=ID)\n",
    "    \n",
    "@app.route('/menu_<key>/monitor/<group_no>/<ID>/update')\n",
    "def monitor_nano_update(key, group_no, ID):  \n",
    "    if 0:\n",
    "        df = pd.read_sql(\"select* from group{}.a{} order by time desc limit 10\".format(\\\n",
    "            group_no, ID), connect)\n",
    "        return {'data':list(df['data']), 'prediction':list(df['prediction']), \\\n",
    "            'CPU':list(df['CPU']), 'memory':list(df['memory']), \\\n",
    "            'time':list(map(lambda x:str(x), df['time'])) }        \n",
    "    else:\n",
    "        from random import random\n",
    "        return {'data':[round(random(),3) for i in range(10)], \\\n",
    "                'prediction':[round(random(),3) for i in range(10)], \\\n",
    "                'CPU':[round(random(),3) for i in range(10)], \\\n",
    "                'memory':[round(random(),3) for i in range(10)], \\\n",
    "                'time':[round(random(),3) for i in range(10)] }\n",
    "        \n",
    "if __name__ == '__main__':\n",
    "    app.run()"
   ]
  },
  {
   "cell_type": "code",
   "execution_count": 3,
   "metadata": {},
   "outputs": [],
   "source": [
    "# modify\n",
    "# 1 create_nano_user_process: add IP column\n",
    "# 2 monitor function\n",
    "# 3 monitor nano function\n",
    "# 4 mobitor nano update (partial loading)\n",
    "# 5 menu.html: add monitor href"
   ]
  },
  {
   "cell_type": "code",
   "execution_count": 4,
   "metadata": {},
   "outputs": [
    {
     "data": {
      "text/plain": [
       "{'data': [4.0, 2.0, 6.0, 1.0, 1.0, 2.0, 3.0, 1.0, 6.0, 2.0],\n",
       " 'prediction': [0.0, 19.0, 19.0, 0.0, 4.0, 21.0, 25.0, 23.0, 27.0, 1.0],\n",
       " 'CPU': [0.0, 0.0, 0.0, 0.0, 0.0, 0.0, 0.0, 0.0, 0.0, 0.0],\n",
       " 'memory': [40.9, 40.9, 40.9, 40.9, 40.9, 33.1, 33.1, 33.0, 33.1, 33.1],\n",
       " 'time': ['2020-06-23 09:59:34',\n",
       "  '2020-06-23 09:59:32',\n",
       "  '2020-06-23 09:59:31',\n",
       "  '2020-06-23 09:59:30',\n",
       "  '2020-06-23 09:59:29',\n",
       "  '2020-06-22 16:57:28',\n",
       "  '2020-06-22 16:57:27',\n",
       "  '2020-06-22 16:57:26',\n",
       "  '2020-06-22 16:57:25',\n",
       "  '2020-06-22 16:57:24']}"
      ]
     },
     "execution_count": 4,
     "metadata": {},
     "output_type": "execute_result"
    }
   ],
   "source": [
    "df = pd.read_sql(\"select* from group{}.a{} order by time desc limit 10\".format(\\\n",
    "            0, '0000'), connect)\n",
    "D = {'data':list(df['data']), 'prediction':list(df['prediction']), 'CPU':list(df['CPU']), \\\n",
    "    'memory':list(df['memory']), 'time':list(map(lambda x:str(x), df['time'])) }\n",
    "D"
   ]
  },
  {
   "cell_type": "code",
   "execution_count": 5,
   "metadata": {},
   "outputs": [
    {
     "data": {
      "text/plain": [
       "'[0.6061794743339328, 0.48125222405099266, 0.7588205603798269, 0.9453187523625525, 0.1522885413724494, 0.3134656920185711, 0.8241069857206776, 0.012033311346071995, 0.7076205401960911, 0.512353424208372]'"
      ]
     },
     "execution_count": 5,
     "metadata": {},
     "output_type": "execute_result"
    }
   ],
   "source": [
    "from random import random\n",
    "str([random() for i in range(10)])"
   ]
  },
  {
   "cell_type": "code",
   "execution_count": 6,
   "metadata": {},
   "outputs": [
    {
     "data": {
      "text/plain": [
       "'2020-06-29 15:06:57.858876'"
      ]
     },
     "execution_count": 6,
     "metadata": {},
     "output_type": "execute_result"
    }
   ],
   "source": [
    "import datetime\n",
    "str(datetime.datetime.now())"
   ]
  },
  {
   "cell_type": "code",
   "execution_count": null,
   "metadata": {},
   "outputs": [],
   "source": []
  }
 ],
 "metadata": {
  "kernelspec": {
   "display_name": "Python 3",
   "language": "python",
   "name": "python3"
  },
  "language_info": {
   "codemirror_mode": {
    "name": "ipython",
    "version": 3
   },
   "file_extension": ".py",
   "mimetype": "text/x-python",
   "name": "python",
   "nbconvert_exporter": "python",
   "pygments_lexer": "ipython3",
   "version": "3.7.7"
  }
 },
 "nbformat": 4,
 "nbformat_minor": 4
}
